{
 "cells": [
  {
   "cell_type": "code",
   "execution_count": null,
   "metadata": {},
   "outputs": [],
   "source": [
    "from instagramy import InstagramUser"
   ]
  },
  {
   "cell_type": "code",
   "execution_count": null,
   "metadata": {},
   "outputs": [],
   "source": [
    "session = \"48285267657%3ASg8mxoUvxngfgl%3A28\""
   ]
  },
  {
   "cell_type": "code",
   "execution_count": 3,
   "metadata": {},
   "outputs": [],
   "source": [
    "user = InstagramUser('anjali.saxena23092001', sessionid=session)"
   ]
  },
  {
   "cell_type": "code",
   "execution_count": 4,
   "metadata": {},
   "outputs": [],
   "source": [
    "data = user.user_data"
   ]
  },
  {
   "cell_type": "code",
   "execution_count": 5,
   "metadata": {},
   "outputs": [
    {
     "name": "stdout",
     "output_type": "stream",
     "text": [
      "{'biography': '', 'blocked_by_viewer': False, 'restricted_by_viewer': None, 'country_block': False, 'external_url': None, 'external_url_linkshimmed': None, 'edge_followed_by': {'count': 1}, 'fbid': '17841448349715658', 'followed_by_viewer': False, 'edge_follow': {'count': 1}, 'follows_viewer': False, 'full_name': 'Anjali', 'has_ar_effects': False, 'has_clips': False, 'has_guides': False, 'has_channel': False, 'has_blocked_viewer': False, 'highlight_reel_count': 0, 'has_requested_viewer': False, 'hide_like_and_view_counts': False, 'id': '48285267657', 'is_business_account': False, 'is_professional_account': False, 'is_joined_recently': False, 'business_address_json': None, 'business_contact_method': None, 'business_email': None, 'business_phone_number': None, 'business_category_name': None, 'overall_category_name': None, 'category_enum': None, 'category_name': None, 'is_private': False, 'is_verified': False, 'edge_mutual_followed_by': {'count': 0, 'edges': []}, 'profile_pic_url': 'https://scontent-nrt1-1.cdninstagram.com/v/t51.2885-19/44884218_345707102882519_2446069589734326272_n.jpg?_nc_ht=scontent-nrt1-1.cdninstagram.com&_nc_ohc=IDOlsTV2yQQAX8OH0us&edm=AEsR1pMBAAAA&ccb=7-4&oh=360ca99135cd757e92724d28b7e4bd57&oe=610014CF&_nc_sid=3f45ac&ig_cache_key=YW5vbnltb3VzX3Byb2ZpbGVfcGlj.2-ccb7-4', 'profile_pic_url_hd': 'https://scontent-nrt1-1.cdninstagram.com/v/t51.2885-19/44884218_345707102882519_2446069589734326272_n.jpg?_nc_ht=scontent-nrt1-1.cdninstagram.com&_nc_ohc=IDOlsTV2yQQAX8OH0us&edm=AEsR1pMBAAAA&ccb=7-4&oh=360ca99135cd757e92724d28b7e4bd57&oe=610014CF&_nc_sid=3f45ac&ig_cache_key=YW5vbnltb3VzX3Byb2ZpbGVfcGlj.2-ccb7-4', 'requested_by_viewer': False, 'should_show_category': False, 'should_show_public_contacts': False, 'username': 'anjali.saxena23092001', 'connected_fb_page': None, 'edge_felix_video_timeline': {'count': 0, 'page_info': {'has_next_page': False, 'end_cursor': None}, 'edges': []}, 'edge_owner_to_timeline_media': {'count': 0, 'page_info': {'has_next_page': False, 'end_cursor': None}, 'edges': []}, 'edge_saved_media': {'count': 0, 'page_info': {'has_next_page': False, 'end_cursor': None}, 'edges': []}, 'edge_media_collections': {'count': 0, 'page_info': {'has_next_page': False, 'end_cursor': None}, 'edges': []}, 'edge_related_profiles': {'edges': []}}\n"
     ]
    }
   ],
   "source": [
    "print(data)"
   ]
  },
  {
   "cell_type": "code",
   "execution_count": 6,
   "metadata": {},
   "outputs": [],
   "source": [
    "name = data['full_name']\n",
    "username = data['username']\n",
    "private = data['is_private']\n",
    "followers = data['edge_followed_by']\n",
    "following = data['edge_follow']\n",
    "posts = data['edge_owner_to_timeline_media']\n",
    "post_count = posts['count']\n",
    "biography = data['biography']\n",
    "external_url = data['external_url']\n",
    "profile_pic = data['profile_pic_url']"
   ]
  },
  {
   "cell_type": "code",
   "execution_count": 7,
   "metadata": {},
   "outputs": [
    {
     "data": {
      "text/plain": [
       "0"
      ]
     },
     "execution_count": 7,
     "metadata": {},
     "output_type": "execute_result"
    }
   ],
   "source": [
    "post_count"
   ]
  },
  {
   "cell_type": "code",
   "execution_count": 1,
   "metadata": {},
   "outputs": [
    {
     "name": "stderr",
     "output_type": "stream",
     "text": [
      "C:\\Users\\Anjali\\anaconda3\\lib\\site-packages\\win_unicode_console\\__init__.py:31: RuntimeWarning: sys.stdin.encoding == 'cp1252', whereas sys.stdout.encoding == 'UTF-8', readline hook consumer may assume they are the same\n",
      "  readline_hook.enable(use_pyreadline=use_pyreadline)\n"
     ]
    },
    {
     "name": "stdout",
     "output_type": "stream",
     "text": [
      "Username:  aman.kharwal\n",
      "User ID:  1986707800\n",
      "Number of Posts:  116\n",
      "Followers:  4278\n",
      "Followees:  98\n",
      "Bio:  Coder with the ♥️ of a Writer https://medium.com/coders-camp/all-machine-learning-algorithms-models-explained-adcd95d5fb3c\n"
     ]
    }
   ],
   "source": [
    "import instaloader\n",
    "\n",
    "# Create an instance of Instaloader class\n",
    "loader = instaloader.Instaloader()\n",
    "\n",
    "# Load a profile from an Instagram handle\n",
    "profile = instaloader.Profile.from_username(loader.context, 'aman.kharwal')\n",
    "print(\"Username: \", profile.username)\n",
    "print(\"User ID: \", profile.userid)\n",
    "print(\"Number of Posts: \", profile.mediacount)\n",
    "print(\"Followers: \", profile.followers)\n",
    "print(\"Followees: \", profile.followees)\n",
    "print(\"Bio: \", profile.biography,profile.external_url)\n"
   ]
  },
  {
   "cell_type": "code",
   "execution_count": null,
   "metadata": {},
   "outputs": [],
   "source": [
    "loader = instaloader.Instaloader()\n",
    "loader.login('anjali.saxena23092001', 'saxena23')\n",
    "profile = instaloader.Profile.from_username(loader.context, 'geeks_for_geeks')\n",
    "username = profile.username\n",
    "private = profile.is_private \n",
    "followers = profile.followers \n",
    "following = profile.followees \n",
    "posts = profile.mediacount \n",
    "biography = profile.biography\n",
    "external_url = profile.external_url\n",
    "profile_pic = profile.profile_pic_url\n",
    "print(\"Profile Picture :\")\n",
    "print(profile_pic)"
   ]
  }
 ],
 "metadata": {
  "kernelspec": {
   "display_name": "Python 3",
   "language": "python",
   "name": "python3"
  },
  "language_info": {
   "codemirror_mode": {
    "name": "ipython",
    "version": 3
   },
   "file_extension": ".py",
   "mimetype": "text/x-python",
   "name": "python",
   "nbconvert_exporter": "python",
   "pygments_lexer": "ipython3",
   "version": "3.8.5"
  }
 },
 "nbformat": 4,
 "nbformat_minor": 4
}
