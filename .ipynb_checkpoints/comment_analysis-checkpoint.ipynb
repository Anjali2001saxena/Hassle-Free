{
 "cells": [
  {
   "cell_type": "code",
   "execution_count": 1,
   "metadata": {},
   "outputs": [
    {
     "name": "stderr",
     "output_type": "stream",
     "text": [
      "C:\\Users\\Anjali\\anaconda3\\lib\\site-packages\\win_unicode_console\\__init__.py:31: RuntimeWarning: sys.stdin.encoding == 'cp1252', whereas sys.stdout.encoding == 'UTF-8', readline hook consumer may assume they are the same\n",
      "  readline_hook.enable(use_pyreadline=use_pyreadline)\n"
     ]
    }
   ],
   "source": [
    "import re\n",
    "import instaloader\n",
    "from textblob import TextBlob"
   ]
  },
  {
   "cell_type": "code",
   "execution_count": 2,
   "metadata": {},
   "outputs": [],
   "source": [
    "user = 'anjali.saxena23092001'\n",
    "pwd = 'saxena23'"
   ]
  },
  {
   "cell_type": "code",
   "execution_count": 7,
   "metadata": {},
   "outputs": [],
   "source": [
    "def get_comments(username, password):\n",
    "    L = instaloader.Instaloader()\n",
    "    L.login(username, password)\n",
    "    profile = instaloader.Profile.from_username(L.context, username)\n",
    "    posts = profile.get_posts()\n",
    "    result = []\n",
    "    for post in posts:\n",
    "        comment_obj = post.get_comments()\n",
    "        comments = []\n",
    "        for comment in comment_obj:\n",
    "            comments.append(comment[2])  \n",
    "        result.append(comments)\n",
    "        \n",
    "    return result\n",
    "\n",
    "def clean_comment(username, password):\n",
    "    comments = get_comments(username, password)\n",
    "    final = []\n",
    "    for x in comments:\n",
    "        for y in x:\n",
    "            comment = y\n",
    "            clean_com = ' '.join(re.sub(\"(@[A-Za-z0-9]+)|([^0-9A-Za-z \\t])|(\\w+:\\/\\/\\S+)\", \" \", comment).split())\n",
    "            final.append(clean_com)\n",
    "    \n",
    "    return final\n",
    "    \n",
    "negative_comments = []\n",
    "\n",
    "def get_comment_sentiment(username, password):\n",
    "        comments = clean_comment(username, password)\n",
    "        sentiments = []\n",
    "        for comment in comments:\n",
    "            analysis = TextBlob(comment)\n",
    "        \n",
    "            if analysis.sentiment.polarity > 0:\n",
    "                sentiments.append('positive')\n",
    "            elif analysis.sentiment.polarity == 0:\n",
    "                sentiments.append('neutral')\n",
    "            else:\n",
    "                sentiments.append('negative')\n",
    "                negative_comments.append(comment)\n",
    "        return sentiments"
   ]
  },
  {
   "cell_type": "code",
   "execution_count": 8,
   "metadata": {},
   "outputs": [
    {
     "data": {
      "text/plain": [
       "['positive', 'positive', 'negative', 'neutral', 'negative']"
      ]
     },
     "execution_count": 8,
     "metadata": {},
     "output_type": "execute_result"
    }
   ],
   "source": [
    "get_comment_sentiment(user, pwd)"
   ]
  },
  {
   "cell_type": "code",
   "execution_count": null,
   "metadata": {},
   "outputs": [],
   "source": []
  }
 ],
 "metadata": {
  "kernelspec": {
   "display_name": "Python 3",
   "language": "python",
   "name": "python3"
  },
  "language_info": {
   "codemirror_mode": {
    "name": "ipython",
    "version": 3
   },
   "file_extension": ".py",
   "mimetype": "text/x-python",
   "name": "python",
   "nbconvert_exporter": "python",
   "pygments_lexer": "ipython3",
   "version": "3.8.5"
  }
 },
 "nbformat": 4,
 "nbformat_minor": 4
}
