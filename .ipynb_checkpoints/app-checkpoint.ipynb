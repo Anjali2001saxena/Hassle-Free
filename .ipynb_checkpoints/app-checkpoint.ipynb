{
 "cells": [
  {
   "cell_type": "code",
   "execution_count": 1,
   "metadata": {},
   "outputs": [
    {
     "name": "stderr",
     "output_type": "stream",
     "text": [
      "C:\\Users\\Anjali\\anaconda3\\lib\\site-packages\\win_unicode_console\\__init__.py:31: RuntimeWarning: sys.stdin.encoding == 'cp1252', whereas sys.stdout.encoding == 'UTF-8', readline hook consumer may assume they are the same\n",
      "  readline_hook.enable(use_pyreadline=use_pyreadline)\n"
     ]
    }
   ],
   "source": [
    "import numpy as np\n",
    "from flask import Flask, render_template, request\n",
    "import joblib\n",
    "from instagramy import InstagramUser\n",
    "import instaloader\n",
    "from sklearn.preprocessing import QuantileTransformer"
   ]
  },
  {
   "cell_type": "code",
   "execution_count": 2,
   "metadata": {},
   "outputs": [],
   "source": [
    "app = Flask(__name__)\n",
    "model = joblib.load(\"trained_model.pkl\")\n",
    "scaler = joblib.load(\"trained_scaler.pkl\")"
   ]
  },
  {
   "cell_type": "code",
   "execution_count": 3,
   "metadata": {},
   "outputs": [],
   "source": [
    "def reach_analysis(followers, time):\n",
    "    model = joblib.load('reach_model.pkl')\n",
    "    scaler = joblib.load('reach_scaler.pkl')\n",
    "    features = np.array([int(followers), int(time)])\n",
    "    features = scaler.transform(features.reshape(1,-1))\n",
    "    likes = model.predict(features)\n",
    "    return likes\n",
    "\n",
    "def follower(user, password):\n",
    "    loader = instaloader.Instaloader()\n",
    "    loader.login(user, password)\n",
    "    username = 'anjali_saxena.as'\n",
    "    profile = instaloader.Profile.from_username(loader.context, user)\n",
    "    follower_list = []\n",
    "    for follower in profile.get_followers():\n",
    "        follower_list.append(follower.username)\n",
    "    \n",
    "    return follower_list\n",
    "\n",
    "def information(username, password):\n",
    "    follower_list = follower(username, password)\n",
    "    loader = instaloader.Instaloader()\n",
    "    users_info = []\n",
    "    for x in follower_list:\n",
    "        user = []\n",
    "        profile = instaloader.Profile.from_username(loader.context, x)\n",
    "        name = len(profile.username)\n",
    "        username = len(profile.username)\n",
    "        private = profile.is_private\n",
    "        followers = profile.followers \n",
    "        following = profile.followees \n",
    "        posts = profile.mediacount \n",
    "        biography = len(profile.biography)\n",
    "        external_url = bool(profile.external_url)\n",
    "        profile_pic = bool(profile.profile_pic_url)\n",
    "        profile_info = np.array([name, username, private, followers, following, posts, biography, external_url, profile_pic])\n",
    "        user.append(profile_info)\n",
    "        user.append(profile.username)\n",
    "        users_info.append(user)\n",
    "        \n",
    "    return users_info\n",
    "\n",
    "def train(username, password):\n",
    "    users = information(username, password)\n",
    "    result = []\n",
    "    for u in users:\n",
    "        user = []\n",
    "        username = u[1]\n",
    "        x = u[0]\n",
    "        info = scaler.transform(x.reshape(1,-1))\n",
    "        status = model.predict(info)[0]\n",
    "        user.append(username)\n",
    "        user.append(status)\n",
    "        result.append(user)\n",
    "        \n",
    "    return result\n",
    "\n",
    "@app.route('/')\n",
    "def home():\n",
    "    return render_template('index.html')\n",
    "\n",
    "@app.route('/submit',methods = ['POST', 'GET'])\n",
    "def welcome():\n",
    "    if request.method == 'POST':\n",
    "      global username \n",
    "      username = request.form['username']\n",
    "      global password \n",
    "      password = request.form['password']\n",
    "      return render_template('welcome.html')\n",
    "    else :\n",
    "      return render_template('index.html')   \n",
    "\n",
    "@app.route('/submit/reach', methods = ['POST', 'GET'])\n",
    "def reach_prediction():\n",
    "    return render_template('content_reach.html')\n",
    "\n",
    "@app.route('/submit/reach/result', methods = ['POST', 'GET'])\n",
    "def reach_result():\n",
    "    if request.method == 'POST':\n",
    "      followers = request.form['followers']\n",
    "      time = request.form['hours']\n",
    "      result = int(reach_analysis(followers, time))\n",
    "      return render_template('reach_result.html', answer = result)\n",
    "    else :\n",
    "      return render_template('content_reach.html')  \n",
    "\n",
    "@app.route('/submit/accounts',methods = ['POST', 'GET'])\n",
    "def resultpage():\n",
    "    details = train(username, password)\n",
    "    return render_template('submit.html', answer=details)"
   ]
  },
  {
   "cell_type": "code",
   "execution_count": 4,
   "metadata": {},
   "outputs": [
    {
     "name": "stdout",
     "output_type": "stream",
     "text": [
      " * Serving Flask app \"__main__\" (lazy loading)\n",
      " * Environment: production\n",
      "   WARNING: This is a development server. Do not use it in a production deployment.\n",
      "   Use a production WSGI server instead.\n",
      " * Debug mode: off\n"
     ]
    },
    {
     "name": "stderr",
     "output_type": "stream",
     "text": [
      " * Running on http://127.0.0.1:5000/ (Press CTRL+C to quit)\n"
     ]
    }
   ],
   "source": [
    "if __name__ == '__main__':\n",
    "    app.config['TEMPLATES_AUTO_RELOAD'] = True\n",
    "    app.run()"
   ]
  },
  {
   "cell_type": "code",
   "execution_count": null,
   "metadata": {},
   "outputs": [],
   "source": []
  }
 ],
 "metadata": {
  "kernelspec": {
   "display_name": "Python 3",
   "language": "python",
   "name": "python3"
  },
  "language_info": {
   "codemirror_mode": {
    "name": "ipython",
    "version": 3
   },
   "file_extension": ".py",
   "mimetype": "text/x-python",
   "name": "python",
   "nbconvert_exporter": "python",
   "pygments_lexer": "ipython3",
   "version": "3.8.5"
  }
 },
 "nbformat": 4,
 "nbformat_minor": 4
}
