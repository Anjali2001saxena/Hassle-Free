{
 "cells": [
  {
   "cell_type": "code",
   "execution_count": 1,
   "metadata": {},
   "outputs": [
    {
     "name": "stderr",
     "output_type": "stream",
     "text": [
      "C:\\Users\\Anjali\\anaconda3\\lib\\site-packages\\win_unicode_console\\__init__.py:31: RuntimeWarning: sys.stdin.encoding == 'cp1252', whereas sys.stdout.encoding == 'UTF-8', readline hook consumer may assume they are the same\n",
      "  readline_hook.enable(use_pyreadline=use_pyreadline)\n"
     ]
    }
   ],
   "source": [
    "import numpy as np\n",
    "from instagramy import InstagramUser\n",
    "import instaloader\n",
    "import joblib\n",
    "from sklearn.preprocessing import QuantileTransformer"
   ]
  },
  {
   "cell_type": "code",
   "execution_count": null,
   "metadata": {},
   "outputs": [],
   "source": [
    "user = 'anjali.saxena23092001'\n",
    "pwd = 'saxena23'"
   ]
  },
  {
   "cell_type": "code",
   "execution_count": 2,
   "metadata": {},
   "outputs": [],
   "source": [
    "def follower(user, password):\n",
    "    loader = instaloader.Instaloader()\n",
    "    loader.login(user, password)\n",
    "    username = 'anjali_saxena.as'\n",
    "    profile = instaloader.Profile.from_username(loader.context, user)\n",
    "    follower_list = []\n",
    "    for follower in profile.get_followers():\n",
    "        follower_list.append(follower.username)\n",
    "    \n",
    "    return follower_list"
   ]
  },
  {
   "cell_type": "code",
   "execution_count": 50,
   "metadata": {},
   "outputs": [],
   "source": [
    "def information(username, password):\n",
    "    follower_list = follower(username, password)\n",
    "    loader = instaloader.Instaloader()\n",
    "    users_info = []\n",
    "    for x in follower_list:\n",
    "        user = []\n",
    "        profile = instaloader.Profile.from_username(loader.context, x)\n",
    "        name = len(profile.username)\n",
    "        username = len(profile.username)\n",
    "        private = profile.is_private\n",
    "        followers = profile.followers \n",
    "        following = profile.followees \n",
    "        posts = profile.mediacount \n",
    "        biography = len(profile.biography)\n",
    "        external_url = bool(profile.external_url)\n",
    "        profile_pic = bool(profile.profile_pic_url)\n",
    "        profile_info = np.array([name, username, private, followers, following, posts, biography, external_url, profile_pic])\n",
    "        user.append(profile_info)\n",
    "        user.append(profile.username)\n",
    "        users_info.append(user)\n",
    "        \n",
    "    return users_info"
   ]
  },
  {
   "cell_type": "code",
   "execution_count": 51,
   "metadata": {},
   "outputs": [],
   "source": [
    "model = joblib.load(\"trained_model.pkl\")\n",
    "scaler = joblib.load(\"trained_scaler.pkl\")"
   ]
  },
  {
   "cell_type": "code",
   "execution_count": 52,
   "metadata": {},
   "outputs": [],
   "source": [
    "def train(username, password):\n",
    "    users = information(username, password)\n",
    "    result = []\n",
    "    for u in users:\n",
    "        user = []\n",
    "        username = u[1]\n",
    "        x = u[0]\n",
    "        info = scaler.transform(x.reshape(1,-1))\n",
    "        status = model.predict(info)[0]\n",
    "        user.append(username)\n",
    "        user.append(status)\n",
    "        result.append(user)\n",
    "        \n",
    "    return result"
   ]
  },
  {
   "cell_type": "code",
   "execution_count": 53,
   "metadata": {},
   "outputs": [],
   "source": [
    "res = train(user, pwd)"
   ]
  },
  {
   "cell_type": "code",
   "execution_count": 54,
   "metadata": {},
   "outputs": [
    {
     "name": "stdout",
     "output_type": "stream",
     "text": [
      "[['rachna.pvt_blog', 0], ['anjali_saxena.as', 0]]\n"
     ]
    }
   ],
   "source": [
    "print(res)"
   ]
  },
  {
   "cell_type": "code",
   "execution_count": null,
   "metadata": {},
   "outputs": [],
   "source": []
  }
 ],
 "metadata": {
  "kernelspec": {
   "display_name": "Python 3",
   "language": "python",
   "name": "python3"
  },
  "language_info": {
   "codemirror_mode": {
    "name": "ipython",
    "version": 3
   },
   "file_extension": ".py",
   "mimetype": "text/x-python",
   "name": "python",
   "nbconvert_exporter": "python",
   "pygments_lexer": "ipython3",
   "version": "3.8.5"
  }
 },
 "nbformat": 4,
 "nbformat_minor": 4
}
