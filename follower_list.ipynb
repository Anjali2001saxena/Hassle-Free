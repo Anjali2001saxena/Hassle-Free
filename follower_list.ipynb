{
 "cells": [
  {
   "cell_type": "code",
   "execution_count": 1,
   "metadata": {},
   "outputs": [
    {
     "name": "stderr",
     "output_type": "stream",
     "text": [
      "C:\\Users\\Anjali\\anaconda3\\lib\\site-packages\\win_unicode_console\\__init__.py:31: RuntimeWarning: sys.stdin.encoding == 'cp1252', whereas sys.stdout.encoding == 'UTF-8', readline hook consumer may assume they are the same\n",
      "  readline_hook.enable(use_pyreadline=use_pyreadline)\n"
     ]
    }
   ],
   "source": [
    "import instaloader"
   ]
  },
  {
   "cell_type": "code",
   "execution_count": 2,
   "metadata": {},
   "outputs": [],
   "source": [
    "loader = instaloader.Instaloader()"
   ]
  },
  {
   "cell_type": "code",
   "execution_count": 3,
   "metadata": {},
   "outputs": [],
   "source": [
    "loader.login('anjali.saxena23092001', 'saxena23')"
   ]
  },
  {
   "cell_type": "code",
   "execution_count": 4,
   "metadata": {},
   "outputs": [],
   "source": [
    "username = 'anjali_saxena.as'\n",
    "profile = instaloader.Profile.from_username(loader.context, username)"
   ]
  },
  {
   "cell_type": "code",
   "execution_count": 5,
   "metadata": {},
   "outputs": [],
   "source": [
    "follower_list = []\n",
    "for follower in profile.get_followers():\n",
    "    follower_list.append(follower.username)"
   ]
  },
  {
   "cell_type": "code",
   "execution_count": 6,
   "metadata": {},
   "outputs": [
    {
     "name": "stdout",
     "output_type": "stream",
     "text": [
      "['rachna.pvt_blog', 'prachi._rao', '_a.n.a.y__', 'pulkit_02', 'anjali.saxena23092001', 'nikhil.mittal69', 'rjofficial_07', 'vivek_thakur819', 'sk31_the_legend', 'mishrapragya873', 'viplov_singh_', 'eekshit_', '__sehjal21', '_007deepanshu_', 'kamal.saxena.39566905', 'neerajsaxena431', 'aasthagoyal_ag', 'sakshigoyll', 'priyanka.saxena27', 'shubham_saxena_0', 'shivang_saxena_123', 'swasax', 'om.bhargava', 'manan0404_m', 'haarsh01', 'hema.saxena30', '_._.ishaan._._', 'devil_rakesh_63', 'isha.chaudharry', 'ritiii.ka', '_gauriiiiiii__', 'medha_mehta_85', 'gunjan.khanduja', '_vaibhav.nagpal_', 'frames_freak', 'rishitha__chakirala', 'shwetadelhi', 'sp_subudhi_', 'deep__bansal_', 'im_shivamk', '_rakshagupta_', 'vishi.aggarwal', 'vanshika_mittal02', 'namika_yadav', '_shikhar_chauhan_', 'lakshay._.gupta', 'parshant.insta', 'choubeysatyam7', 'ritiksingla2208', 'pranjalgup', 'k.h.y.a.t.i.21', 'aryan_kumar05', 'aman.choudhary02', 'riya.saxena24', 'kashikajain_31', 'anshika_5501', 'shubham_guliaa', 'jatin.2501', 'gourikapoor12', 'its___vibs', 'ishx14', 'aashutosh_bansal27', 'silverliteindia', 'h.i.m.a.n.k', '_divya.t_', 'divyaalvar', 'barbie_aka_avni', 'tanisha.uni', 'kunnu0057', 'manvi_verma__21', 'rohan.18v', 'ananyagoel555', 'munjalnaman19', 'nish_ant1322', 'sircar_10', 'clicks_ontheway', 'anuragsajwan03', 'bhawna_1621', 'mahak_mona', 'apoorv_dwi2506', 'tushargupta8765', 'harshhx', '_harshit_2000', 'rohann_malik', '_khushboo.goel', 'dhruvi5335', 'piyush.ts', 'prakhar_2206', 'arpithiside', 'stark.tushar', 'ankitgoel.25', 'kvanshika10', 'malhotraparkhi', 'mrabhiramshukla', 'bihani.priya', '_rohit_rout', 'gkartik18', 'disha__bhardwaj', 'abhishek16189', 'ttanuyadav01', 'syeda_reeha_quasar', 'saxena.prashi', 'sonalsaxena77', 'satnam1381', 'rosy_chadha65', 'aditya_sharma1_2', 'ishita_sharma2000', 'arushiiipal', 'apeksha.manchanda', 'tushar.saxena24', 'thakkar_nishita_', 'riya.negi00', 'shivankmudgal1062000', 's4_saransh_', '_aakriti_singh_2411', 'ark_abhi_7', 'i_am_.rakesh._razz', 'akriti.saxena.7374', 'kkeshav_bhagat', 'miss_prachu_20', '_arpit_trivedi_', 'kaushaldwvd', 'nandaniciouss', 'itisrajat', 'harshit_sharma.17', 'shubhamsiddharth25', 'karismatic_kashish', 'sejal._._._', 'divz.sood', 'esha_sharma51981', 'chirag.1407', 'shruti_._arya', 'komal.saxena.56863', 'irachna_rg']\n"
     ]
    }
   ],
   "source": [
    "print(follower_list)"
   ]
  },
  {
   "cell_type": "code",
   "execution_count": 7,
   "metadata": {},
   "outputs": [],
   "source": []
  }
 ],
 "metadata": {
  "kernelspec": {
   "display_name": "Python 3",
   "language": "python",
   "name": "python3"
  },
  "language_info": {
   "codemirror_mode": {
    "name": "ipython",
    "version": 3
   },
   "file_extension": ".py",
   "mimetype": "text/x-python",
   "name": "python",
   "nbconvert_exporter": "python",
   "pygments_lexer": "ipython3",
   "version": "3.8.5"
  }
 },
 "nbformat": 4,
 "nbformat_minor": 4
}
