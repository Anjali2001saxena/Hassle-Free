{
 "cells": [
  {
   "cell_type": "code",
   "execution_count": 1,
   "metadata": {},
   "outputs": [],
   "source": [
    "from time import sleep\n",
    "from selenium import webdriver\n",
    "import requests"
   ]
  },
  {
   "cell_type": "code",
   "execution_count": 2,
   "metadata": {},
   "outputs": [],
   "source": [
    "username = \"anjali.saxena23092001\"\n",
    "password = \"saxena23\"\n",
    "class LoginPage:\n",
    "    def __init__(self, browser):\n",
    "        self.browser = browser\n",
    "        self.browser.get('https://www.instagram.com/')\n",
    "\n",
    "    def login(self, username, password):\n",
    "        username_input = self.browser.find_element_by_css_selector(\"input[name='username']\")\n",
    "        password_input = self.browser.find_element_by_css_selector(\"input[name='password']\")\n",
    "        username_input.send_keys(username)\n",
    "        password_input.send_keys(password)\n",
    "        login_button = browser.find_element_by_xpath(\"//button[@type='submit']\")\n",
    "        login_button.click()\n",
    "        sleep(5)\n"
   ]
  },
  {
   "cell_type": "code",
   "execution_count": 3,
   "metadata": {},
   "outputs": [],
   "source": [
    "browser = webdriver.Chrome()\n",
    "browser.implicitly_wait(5)\n",
    "\n",
    "login_page = LoginPage(browser)\n",
    "login_page.login(username, password)\n",
    "browser.implicitly_wait(5)\n",
    "browser.close()"
   ]
  },
  {
   "cell_type": "code",
   "execution_count": null,
   "metadata": {},
   "outputs": [],
   "source": []
  },
  {
   "cell_type": "code",
   "execution_count": null,
   "metadata": {},
   "outputs": [],
   "source": []
  }
 ],
 "metadata": {
  "kernelspec": {
   "display_name": "Python 3",
   "language": "python",
   "name": "python3"
  },
  "language_info": {
   "codemirror_mode": {
    "name": "ipython",
    "version": 3
   },
   "file_extension": ".py",
   "mimetype": "text/x-python",
   "name": "python",
   "nbconvert_exporter": "python",
   "pygments_lexer": "ipython3",
   "version": "3.8.5"
  }
 },
 "nbformat": 4,
 "nbformat_minor": 4
}
