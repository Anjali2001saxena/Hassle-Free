{
 "cells": [
  {
   "cell_type": "code",
   "execution_count": 1,
   "source": [
    "import numpy as np\r\n",
    "from instagramy import InstagramUser\r\n",
    "import instaloader\r\n",
    "import joblib\r\n",
    "from sklearn.preprocessing import QuantileTransformer"
   ],
   "outputs": [
    {
     "output_type": "stream",
     "name": "stderr",
     "text": [
      "C:\\Users\\Anjali\\anaconda3\\lib\\site-packages\\win_unicode_console\\__init__.py:31: RuntimeWarning: sys.stdin.encoding == 'cp1252', whereas sys.stdout.encoding == 'UTF-8', readline hook consumer may assume they are the same\n",
      "  readline_hook.enable(use_pyreadline=use_pyreadline)\n"
     ]
    }
   ],
   "metadata": {}
  },
  {
   "cell_type": "code",
   "execution_count": 2,
   "source": [
    "user = 'xxxxxxxxxxxx'\r\n",
    "pwd = 'xxxxxxxx'"
   ],
   "outputs": [],
   "metadata": {}
  },
  {
   "cell_type": "code",
   "execution_count": 3,
   "source": [
    "def follower(user, password):\r\n",
    "    loader = instaloader.Instaloader()\r\n",
    "    loader.login(user, password)\r\n",
    "    username = 'anjali_saxena.as'\r\n",
    "    profile = instaloader.Profile.from_username(loader.context, user)\r\n",
    "    follower_list = []\r\n",
    "    for follower in profile.get_followers():\r\n",
    "        follower_list.append(follower.username)\r\n",
    "    \r\n",
    "    return follower_list"
   ],
   "outputs": [],
   "metadata": {}
  },
  {
   "cell_type": "code",
   "execution_count": 4,
   "source": [
    "def information(username, password):\r\n",
    "    follower_list = follower(username, password)\r\n",
    "    loader = instaloader.Instaloader()\r\n",
    "    users_info = []\r\n",
    "    for x in follower_list:\r\n",
    "        user = []\r\n",
    "        profile = instaloader.Profile.from_username(loader.context, x)\r\n",
    "        name = len(profile.username)\r\n",
    "        username = len(profile.username)\r\n",
    "        private = profile.is_private\r\n",
    "        followers = profile.followers \r\n",
    "        following = profile.followees \r\n",
    "        posts = profile.mediacount \r\n",
    "        biography = len(profile.biography)\r\n",
    "        external_url = bool(profile.external_url)\r\n",
    "        profile_pic = bool(profile.profile_pic_url)\r\n",
    "        profile_info = np.array([name, username, private, followers, following, posts, biography, external_url, profile_pic])\r\n",
    "        user.append(profile_info)\r\n",
    "        user.append(profile.username)\r\n",
    "        users_info.append(user)\r\n",
    "        \r\n",
    "    return users_info"
   ],
   "outputs": [],
   "metadata": {}
  },
  {
   "cell_type": "code",
   "execution_count": 5,
   "source": [
    "model = joblib.load(\"trained_model.pkl\")\n",
    "scaler = joblib.load(\"trained_scaler.pkl\")"
   ],
   "outputs": [],
   "metadata": {}
  },
  {
   "cell_type": "code",
   "execution_count": 6,
   "source": [
    "def train(username, password):\n",
    "    users = information(username, password)\n",
    "    result = []\n",
    "    for u in users:\n",
    "        user = []\n",
    "        username = u[1]\n",
    "        x = u[0]\n",
    "        info = scaler.transform(x.reshape(1,-1))\n",
    "        status = model.predict(info)[0]\n",
    "        user.append(username)\n",
    "        user.append(status)\n",
    "        result.append(user)\n",
    "        \n",
    "    return result"
   ],
   "outputs": [],
   "metadata": {}
  },
  {
   "cell_type": "code",
   "execution_count": 7,
   "source": [
    "res = train(user, pwd)"
   ],
   "outputs": [],
   "metadata": {}
  },
  {
   "cell_type": "code",
   "execution_count": 54,
   "source": [
    "print(res)"
   ],
   "outputs": [
    {
     "output_type": "stream",
     "name": "stdout",
     "text": [
      "[['rachna.pvt_blog', 0], ['anjali_saxena.as', 0]]\n"
     ]
    }
   ],
   "metadata": {}
  },
  {
   "cell_type": "code",
   "execution_count": null,
   "source": [],
   "outputs": [],
   "metadata": {}
  }
 ],
 "metadata": {
  "kernelspec": {
   "display_name": "Python 3",
   "language": "python",
   "name": "python3"
  },
  "language_info": {
   "codemirror_mode": {
    "name": "ipython",
    "version": 3
   },
   "file_extension": ".py",
   "mimetype": "text/x-python",
   "name": "python",
   "nbconvert_exporter": "python",
   "pygments_lexer": "ipython3",
   "version": "3.8.5"
  }
 },
 "nbformat": 4,
 "nbformat_minor": 4
}