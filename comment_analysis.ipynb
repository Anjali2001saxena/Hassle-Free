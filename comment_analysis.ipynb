{
 "cells": [
  {
   "cell_type": "code",
   "execution_count": 1,
   "source": [
    "import re\r\n",
    "import instaloader\r\n",
    "from textblob import TextBlob"
   ],
   "outputs": [
    {
     "output_type": "stream",
     "name": "stderr",
     "text": [
      "C:\\Users\\Anjali\\anaconda3\\lib\\site-packages\\win_unicode_console\\__init__.py:31: RuntimeWarning: sys.stdin.encoding == 'cp1252', whereas sys.stdout.encoding == 'UTF-8', readline hook consumer may assume they are the same\n",
      "  readline_hook.enable(use_pyreadline=use_pyreadline)\n"
     ]
    }
   ],
   "metadata": {}
  },
  {
   "cell_type": "code",
   "execution_count": 2,
   "source": [
    "user = 'xxxxxxxxxxxx'\r\n",
    "pwd = 'xxxxxxxx'"
   ],
   "outputs": [],
   "metadata": {}
  },
  {
   "cell_type": "code",
   "execution_count": 9,
   "source": [
    "def get_comments(username, password):\r\n",
    "    L = instaloader.Instaloader()\r\n",
    "    L.login(username, password)\r\n",
    "    profile = instaloader.Profile.from_username(L.context, username)\r\n",
    "    posts = profile.get_posts()\r\n",
    "    result = []\r\n",
    "    for post in posts:\r\n",
    "        comment_obj = post.get_comments()\r\n",
    "        comments = []\r\n",
    "        for comment in comment_obj:\r\n",
    "            comments.append(comment[2])  \r\n",
    "        result.append(comments)\r\n",
    "        \r\n",
    "    return result\r\n",
    "\r\n",
    "def clean_comment(username, password):\r\n",
    "    comments = get_comments(username, password)\r\n",
    "    final = []\r\n",
    "    for x in comments:\r\n",
    "        for y in x:\r\n",
    "            comment = y\r\n",
    "            clean_com = ' '.join(re.sub(\"(@[A-Za-z0-9]+)|([^0-9A-Za-z \\t])|(\\w+:\\/\\/\\S+)\", \" \", comment).split())\r\n",
    "            final.append(clean_com)\r\n",
    "    \r\n",
    "    return final\r\n",
    "    \r\n",
    "negative_comments = []\r\n",
    "\r\n",
    "def get_comment_sentiment(username, password):\r\n",
    "        comments = clean_comment(username, password)\r\n",
    "        sentiments = []\r\n",
    "        for comment in comments:\r\n",
    "            analysis = TextBlob(comment)\r\n",
    "        \r\n",
    "            if analysis.sentiment.polarity > 0:\r\n",
    "                sentiments.append('positive')\r\n",
    "            elif analysis.sentiment.polarity == 0:\r\n",
    "                sentiments.append('neutral')\r\n",
    "            else:\r\n",
    "                sentiments.append('negative')\r\n",
    "                negative_comments.append(comment)\r\n",
    "        return sentiments"
   ],
   "outputs": [],
   "metadata": {}
  },
  {
   "cell_type": "code",
   "execution_count": 10,
   "source": [
    "get_comment_sentiment(user, pwd)"
   ],
   "outputs": [
    {
     "output_type": "execute_result",
     "data": {
      "text/plain": [
       "['positive', 'positive', 'negative', 'neutral', 'negative']"
      ]
     },
     "metadata": {},
     "execution_count": 10
    }
   ],
   "metadata": {}
  },
  {
   "cell_type": "code",
   "execution_count": 11,
   "source": [
    "print(negative_comments)"
   ],
   "outputs": [
    {
     "output_type": "stream",
     "name": "stdout",
     "text": [
      "['Boring', 'Haven t come across such a worst post ever']\n"
     ]
    }
   ],
   "metadata": {}
  },
  {
   "cell_type": "code",
   "execution_count": null,
   "source": [],
   "outputs": [],
   "metadata": {}
  }
 ],
 "metadata": {
  "kernelspec": {
   "display_name": "Python 3",
   "language": "python",
   "name": "python3"
  },
  "language_info": {
   "codemirror_mode": {
    "name": "ipython",
    "version": 3
   },
   "file_extension": ".py",
   "mimetype": "text/x-python",
   "name": "python",
   "nbconvert_exporter": "python",
   "pygments_lexer": "ipython3",
   "version": "3.8.5"
  }
 },
 "nbformat": 4,
 "nbformat_minor": 4
}